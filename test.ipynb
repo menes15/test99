{
 "cells": [
  {
   "cell_type": "code",
   "execution_count": 29,
   "metadata": {},
   "outputs": [
    {
     "name": "stdout",
     "output_type": "stream",
     "text": [
      "True\n",
      "True\n"
     ]
    }
   ],
   "source": [
    "a =257\n",
    "b = 23\n",
    "a +=-257\n",
    "b+= -23\n",
    "# 看物件的類型 print(type(b))\n",
    "\n",
    "# 看物件的ID (-5~256有快取機制，ID會相同)\n",
    "# print(id(a))\n",
    "\n",
    "print(a==b and a==0)\n",
    "print(a is b)\n"
   ]
  }
 ],
 "metadata": {
  "kernelspec": {
   "display_name": "Python 3",
   "language": "python",
   "name": "python3"
  },
  "language_info": {
   "codemirror_mode": {
    "name": "ipython",
    "version": 3
   },
   "file_extension": ".py",
   "mimetype": "text/x-python",
   "name": "python",
   "nbconvert_exporter": "python",
   "pygments_lexer": "ipython3",
   "version": "3.9.2"
  }
 },
 "nbformat": 4,
 "nbformat_minor": 2
}
